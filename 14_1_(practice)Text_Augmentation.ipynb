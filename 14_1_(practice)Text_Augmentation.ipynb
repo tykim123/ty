{
  "nbformat": 4,
  "nbformat_minor": 0,
  "metadata": {
    "colab": {
      "provenance": []
    },
    "kernelspec": {
      "name": "python3",
      "display_name": "Python 3"
    },
    "language_info": {
      "name": "python"
    }
  },
  "cells": [
    {
      "cell_type": "markdown",
      "source": [
        "# Text Augmentation\n"
      ],
      "metadata": {
        "id": "JvETsNnYrgOs"
      }
    },
    {
      "cell_type": "markdown",
      "source": [
        "1. Easy Data Augmentation\n",
        "    - Random Deletion (직접 구현해보기)\n",
        "    - Random Insertion\n",
        "    - Random Swap (직접 구현해보기)\n",
        "    - Synonym Replacement\n",
        "2. Back Translation (직접 구현해보기)"
      ],
      "metadata": {
        "id": "mWzT9W2-sE8-"
      }
    },
    {
      "cell_type": "code",
      "source": [
        "import pandas as pd\n",
        "import random\n",
        "import pickle\n",
        "import re"
      ],
      "metadata": {
        "id": "ghK5YlKdwSNQ"
      },
      "execution_count": 1,
      "outputs": []
    },
    {
      "cell_type": "code",
      "source": [
        "!gdown https://drive.google.com/uc?id=1KuBG40WNpVPV1ilfGaiCI2D3l8JVSfbS"
      ],
      "metadata": {
        "colab": {
          "base_uri": "https://localhost:8080/"
        },
        "id": "PVcOtqTTwNvU",
        "outputId": "7dee30bc-3b33-4289-ae35-23d6c8dce08c"
      },
      "execution_count": 2,
      "outputs": [
        {
          "output_type": "stream",
          "name": "stdout",
          "text": [
            "Downloading...\n",
            "From: https://drive.google.com/uc?id=1KuBG40WNpVPV1ilfGaiCI2D3l8JVSfbS\n",
            "To: /content/train_original.json\n",
            "100% 800M/800M [00:10<00:00, 75.6MB/s]\n"
          ]
        }
      ]
    },
    {
      "cell_type": "code",
      "source": [
        "df_news = pd.read_json(\"./train_original.json\")\n",
        "df_news"
      ],
      "metadata": {
        "colab": {
          "base_uri": "https://localhost:8080/",
          "height": 597
        },
        "id": "UhmYVQktwPFG",
        "outputId": "be4e7f55-a2ae-4b8c-b043-7bd1b692ab57"
      },
      "execution_count": 3,
      "outputs": [
        {
          "output_type": "execute_result",
          "data": {
            "text/plain": [
              "        media         id                                   article_original  \\\n",
              "0        부산일보  360972161  [지난해 고령화와 유례가 드문 겨울 한파 등 영향으로 우리나라 사망자 수가 통계 작...   \n",
              "1        중도일보  356659913  [서산시의회(의장 임재관) 가충순·이수의 의원이 (사)한국지역신문협회에서 수여하는 ...   \n",
              "2        무등일보  351718460  [지난 2004년 시작해 조선대 학생들의 대표적인 행사로 자리매김한 ‘조선대 국토대...   \n",
              "3        이데일리  335868123  [서울시는 신학기가 시작되는 다음달 4일부터 고등학교 3학년 무상급식을 실시한다고 ...   \n",
              "4        서울신문  351443347  [미국인 선교사가 우간다에서 의사 행세를 하며 의료 시설을 운영한 혐의로 지역 시민...   \n",
              "...       ...        ...                                                ...   \n",
              "260692   매일경제  353316985  [두통과 어지럼증은 우리에게 매우 익숙하다., 하루 이틀 정도만 참으면 자연스럽게 ...   \n",
              "260693   부산일보  360784906  [파주 최대 테마파크 퍼스트가든이 ㈜투바앤의 캐릭터 '라바'와 할로윈 페스티벌(사진...   \n",
              "260694   부산일보  357253753  [민원과 난공사로 완공이 늦어지고 있는 양산시 한일아파트 인근 옹벽 보수·보강공사 ...   \n",
              "260695   매일신문  347655953  [사단법인 전국자원봉사연맹이 호국보훈의 달을 맞이하여, 오는 2019년 6월 23일...   \n",
              "260696  아시아경제  369524558  [라이프스타일 투자플랫폼 와디즈는 서강대학교 경영전문대학원, 한국전문경영컨설팅과 함...   \n",
              "\n",
              "                                              abstractive   extractive  \n",
              "0       통계청이 발표한 '2018년 사망원인통계'를 보면 지난해 총 사망자 수는 관련 통계...  [4, 11, 18]  \n",
              "1       서산시 가충순 의원과 이수의 의원이 활발한 의정활동을 펼친 감사의 표시로 한국지역신...    [1, 3, 4]  \n",
              "2        ‘조선대의 새로운 비상을 꿈꾸다’를 슬로건으로 진행되어 단체생활을 통해 협동심과 ...    [0, 2, 4]  \n",
              "3       서울시가 다음달 4일부터 서울 시내 319개 고등학교 3학년 8만4700명을 대상으...    [0, 1, 2]  \n",
              "4       미국인 선교사가 우간다에서 의사 행세를 하며 두 아이의 죽음과 관련돼 있다며 지역 ...    [0, 1, 2]  \n",
              "...                                                   ...          ...  \n",
              "260692  두통과 어지럼증은 우리에게 매우 익숙한 증상이며, 이 두통은 크게 긴장성 두통, 혈...  [3, 12, 16]  \n",
              "260693  파주 최대 테마파크 퍼스트가든이 오는 10월 12일부터 31일까지 가족들이 함께 즐...    [0, 4, 1]  \n",
              "260694  양산시는 지난해 10월부터 43억 원을 들여 진행 중인 한일아파트 뒤편 옹벽 보수·...    [4, 6, 7]  \n",
              "260695  국가를 위해 헌신한 분들의 숭고한 희생을 기리고, 유가족 들을 위로하기 위해 열리는...    [0, 1, 2]  \n",
              "260696  지난 4일 라이프스타일 투자플랫롬 와디즈는 스타트업 투자 시장에서의 자금 조달 수요...    [0, 1, 2]  \n",
              "\n",
              "[260697 rows x 5 columns]"
            ],
            "text/html": [
              "\n",
              "  <div id=\"df-5f28a2c7-35c1-4bea-876b-2dff3d1b18f9\" class=\"colab-df-container\">\n",
              "    <div>\n",
              "<style scoped>\n",
              "    .dataframe tbody tr th:only-of-type {\n",
              "        vertical-align: middle;\n",
              "    }\n",
              "\n",
              "    .dataframe tbody tr th {\n",
              "        vertical-align: top;\n",
              "    }\n",
              "\n",
              "    .dataframe thead th {\n",
              "        text-align: right;\n",
              "    }\n",
              "</style>\n",
              "<table border=\"1\" class=\"dataframe\">\n",
              "  <thead>\n",
              "    <tr style=\"text-align: right;\">\n",
              "      <th></th>\n",
              "      <th>media</th>\n",
              "      <th>id</th>\n",
              "      <th>article_original</th>\n",
              "      <th>abstractive</th>\n",
              "      <th>extractive</th>\n",
              "    </tr>\n",
              "  </thead>\n",
              "  <tbody>\n",
              "    <tr>\n",
              "      <th>0</th>\n",
              "      <td>부산일보</td>\n",
              "      <td>360972161</td>\n",
              "      <td>[지난해 고령화와 유례가 드문 겨울 한파 등 영향으로 우리나라 사망자 수가 통계 작...</td>\n",
              "      <td>통계청이 발표한 '2018년 사망원인통계'를 보면 지난해 총 사망자 수는 관련 통계...</td>\n",
              "      <td>[4, 11, 18]</td>\n",
              "    </tr>\n",
              "    <tr>\n",
              "      <th>1</th>\n",
              "      <td>중도일보</td>\n",
              "      <td>356659913</td>\n",
              "      <td>[서산시의회(의장 임재관) 가충순·이수의 의원이 (사)한국지역신문협회에서 수여하는 ...</td>\n",
              "      <td>서산시 가충순 의원과 이수의 의원이 활발한 의정활동을 펼친 감사의 표시로 한국지역신...</td>\n",
              "      <td>[1, 3, 4]</td>\n",
              "    </tr>\n",
              "    <tr>\n",
              "      <th>2</th>\n",
              "      <td>무등일보</td>\n",
              "      <td>351718460</td>\n",
              "      <td>[지난 2004년 시작해 조선대 학생들의 대표적인 행사로 자리매김한 ‘조선대 국토대...</td>\n",
              "      <td>‘조선대의 새로운 비상을 꿈꾸다’를 슬로건으로 진행되어 단체생활을 통해 협동심과 ...</td>\n",
              "      <td>[0, 2, 4]</td>\n",
              "    </tr>\n",
              "    <tr>\n",
              "      <th>3</th>\n",
              "      <td>이데일리</td>\n",
              "      <td>335868123</td>\n",
              "      <td>[서울시는 신학기가 시작되는 다음달 4일부터 고등학교 3학년 무상급식을 실시한다고 ...</td>\n",
              "      <td>서울시가 다음달 4일부터 서울 시내 319개 고등학교 3학년 8만4700명을 대상으...</td>\n",
              "      <td>[0, 1, 2]</td>\n",
              "    </tr>\n",
              "    <tr>\n",
              "      <th>4</th>\n",
              "      <td>서울신문</td>\n",
              "      <td>351443347</td>\n",
              "      <td>[미국인 선교사가 우간다에서 의사 행세를 하며 의료 시설을 운영한 혐의로 지역 시민...</td>\n",
              "      <td>미국인 선교사가 우간다에서 의사 행세를 하며 두 아이의 죽음과 관련돼 있다며 지역 ...</td>\n",
              "      <td>[0, 1, 2]</td>\n",
              "    </tr>\n",
              "    <tr>\n",
              "      <th>...</th>\n",
              "      <td>...</td>\n",
              "      <td>...</td>\n",
              "      <td>...</td>\n",
              "      <td>...</td>\n",
              "      <td>...</td>\n",
              "    </tr>\n",
              "    <tr>\n",
              "      <th>260692</th>\n",
              "      <td>매일경제</td>\n",
              "      <td>353316985</td>\n",
              "      <td>[두통과 어지럼증은 우리에게 매우 익숙하다., 하루 이틀 정도만 참으면 자연스럽게 ...</td>\n",
              "      <td>두통과 어지럼증은 우리에게 매우 익숙한 증상이며, 이 두통은 크게 긴장성 두통, 혈...</td>\n",
              "      <td>[3, 12, 16]</td>\n",
              "    </tr>\n",
              "    <tr>\n",
              "      <th>260693</th>\n",
              "      <td>부산일보</td>\n",
              "      <td>360784906</td>\n",
              "      <td>[파주 최대 테마파크 퍼스트가든이 ㈜투바앤의 캐릭터 '라바'와 할로윈 페스티벌(사진...</td>\n",
              "      <td>파주 최대 테마파크 퍼스트가든이 오는 10월 12일부터 31일까지 가족들이 함께 즐...</td>\n",
              "      <td>[0, 4, 1]</td>\n",
              "    </tr>\n",
              "    <tr>\n",
              "      <th>260694</th>\n",
              "      <td>부산일보</td>\n",
              "      <td>357253753</td>\n",
              "      <td>[민원과 난공사로 완공이 늦어지고 있는 양산시 한일아파트 인근 옹벽 보수·보강공사 ...</td>\n",
              "      <td>양산시는 지난해 10월부터 43억 원을 들여 진행 중인 한일아파트 뒤편 옹벽 보수·...</td>\n",
              "      <td>[4, 6, 7]</td>\n",
              "    </tr>\n",
              "    <tr>\n",
              "      <th>260695</th>\n",
              "      <td>매일신문</td>\n",
              "      <td>347655953</td>\n",
              "      <td>[사단법인 전국자원봉사연맹이 호국보훈의 달을 맞이하여, 오는 2019년 6월 23일...</td>\n",
              "      <td>국가를 위해 헌신한 분들의 숭고한 희생을 기리고, 유가족 들을 위로하기 위해 열리는...</td>\n",
              "      <td>[0, 1, 2]</td>\n",
              "    </tr>\n",
              "    <tr>\n",
              "      <th>260696</th>\n",
              "      <td>아시아경제</td>\n",
              "      <td>369524558</td>\n",
              "      <td>[라이프스타일 투자플랫폼 와디즈는 서강대학교 경영전문대학원, 한국전문경영컨설팅과 함...</td>\n",
              "      <td>지난 4일 라이프스타일 투자플랫롬 와디즈는 스타트업 투자 시장에서의 자금 조달 수요...</td>\n",
              "      <td>[0, 1, 2]</td>\n",
              "    </tr>\n",
              "  </tbody>\n",
              "</table>\n",
              "<p>260697 rows × 5 columns</p>\n",
              "</div>\n",
              "    <div class=\"colab-df-buttons\">\n",
              "\n",
              "  <div class=\"colab-df-container\">\n",
              "    <button class=\"colab-df-convert\" onclick=\"convertToInteractive('df-5f28a2c7-35c1-4bea-876b-2dff3d1b18f9')\"\n",
              "            title=\"Convert this dataframe to an interactive table.\"\n",
              "            style=\"display:none;\">\n",
              "\n",
              "  <svg xmlns=\"http://www.w3.org/2000/svg\" height=\"24px\" viewBox=\"0 -960 960 960\">\n",
              "    <path d=\"M120-120v-720h720v720H120Zm60-500h600v-160H180v160Zm220 220h160v-160H400v160Zm0 220h160v-160H400v160ZM180-400h160v-160H180v160Zm440 0h160v-160H620v160ZM180-180h160v-160H180v160Zm440 0h160v-160H620v160Z\"/>\n",
              "  </svg>\n",
              "    </button>\n",
              "\n",
              "  <style>\n",
              "    .colab-df-container {\n",
              "      display:flex;\n",
              "      gap: 12px;\n",
              "    }\n",
              "\n",
              "    .colab-df-convert {\n",
              "      background-color: #E8F0FE;\n",
              "      border: none;\n",
              "      border-radius: 50%;\n",
              "      cursor: pointer;\n",
              "      display: none;\n",
              "      fill: #1967D2;\n",
              "      height: 32px;\n",
              "      padding: 0 0 0 0;\n",
              "      width: 32px;\n",
              "    }\n",
              "\n",
              "    .colab-df-convert:hover {\n",
              "      background-color: #E2EBFA;\n",
              "      box-shadow: 0px 1px 2px rgba(60, 64, 67, 0.3), 0px 1px 3px 1px rgba(60, 64, 67, 0.15);\n",
              "      fill: #174EA6;\n",
              "    }\n",
              "\n",
              "    .colab-df-buttons div {\n",
              "      margin-bottom: 4px;\n",
              "    }\n",
              "\n",
              "    [theme=dark] .colab-df-convert {\n",
              "      background-color: #3B4455;\n",
              "      fill: #D2E3FC;\n",
              "    }\n",
              "\n",
              "    [theme=dark] .colab-df-convert:hover {\n",
              "      background-color: #434B5C;\n",
              "      box-shadow: 0px 1px 3px 1px rgba(0, 0, 0, 0.15);\n",
              "      filter: drop-shadow(0px 1px 2px rgba(0, 0, 0, 0.3));\n",
              "      fill: #FFFFFF;\n",
              "    }\n",
              "  </style>\n",
              "\n",
              "    <script>\n",
              "      const buttonEl =\n",
              "        document.querySelector('#df-5f28a2c7-35c1-4bea-876b-2dff3d1b18f9 button.colab-df-convert');\n",
              "      buttonEl.style.display =\n",
              "        google.colab.kernel.accessAllowed ? 'block' : 'none';\n",
              "\n",
              "      async function convertToInteractive(key) {\n",
              "        const element = document.querySelector('#df-5f28a2c7-35c1-4bea-876b-2dff3d1b18f9');\n",
              "        const dataTable =\n",
              "          await google.colab.kernel.invokeFunction('convertToInteractive',\n",
              "                                                    [key], {});\n",
              "        if (!dataTable) return;\n",
              "\n",
              "        const docLinkHtml = 'Like what you see? Visit the ' +\n",
              "          '<a target=\"_blank\" href=https://colab.research.google.com/notebooks/data_table.ipynb>data table notebook</a>'\n",
              "          + ' to learn more about interactive tables.';\n",
              "        element.innerHTML = '';\n",
              "        dataTable['output_type'] = 'display_data';\n",
              "        await google.colab.output.renderOutput(dataTable, element);\n",
              "        const docLink = document.createElement('div');\n",
              "        docLink.innerHTML = docLinkHtml;\n",
              "        element.appendChild(docLink);\n",
              "      }\n",
              "    </script>\n",
              "  </div>\n",
              "\n",
              "\n",
              "<div id=\"df-b0a87126-b45c-4ee7-ab3e-a376ea533484\">\n",
              "  <button class=\"colab-df-quickchart\" onclick=\"quickchart('df-b0a87126-b45c-4ee7-ab3e-a376ea533484')\"\n",
              "            title=\"Suggest charts.\"\n",
              "            style=\"display:none;\">\n",
              "\n",
              "<svg xmlns=\"http://www.w3.org/2000/svg\" height=\"24px\"viewBox=\"0 0 24 24\"\n",
              "     width=\"24px\">\n",
              "    <g>\n",
              "        <path d=\"M19 3H5c-1.1 0-2 .9-2 2v14c0 1.1.9 2 2 2h14c1.1 0 2-.9 2-2V5c0-1.1-.9-2-2-2zM9 17H7v-7h2v7zm4 0h-2V7h2v10zm4 0h-2v-4h2v4z\"/>\n",
              "    </g>\n",
              "</svg>\n",
              "  </button>\n",
              "\n",
              "<style>\n",
              "  .colab-df-quickchart {\n",
              "      --bg-color: #E8F0FE;\n",
              "      --fill-color: #1967D2;\n",
              "      --hover-bg-color: #E2EBFA;\n",
              "      --hover-fill-color: #174EA6;\n",
              "      --disabled-fill-color: #AAA;\n",
              "      --disabled-bg-color: #DDD;\n",
              "  }\n",
              "\n",
              "  [theme=dark] .colab-df-quickchart {\n",
              "      --bg-color: #3B4455;\n",
              "      --fill-color: #D2E3FC;\n",
              "      --hover-bg-color: #434B5C;\n",
              "      --hover-fill-color: #FFFFFF;\n",
              "      --disabled-bg-color: #3B4455;\n",
              "      --disabled-fill-color: #666;\n",
              "  }\n",
              "\n",
              "  .colab-df-quickchart {\n",
              "    background-color: var(--bg-color);\n",
              "    border: none;\n",
              "    border-radius: 50%;\n",
              "    cursor: pointer;\n",
              "    display: none;\n",
              "    fill: var(--fill-color);\n",
              "    height: 32px;\n",
              "    padding: 0;\n",
              "    width: 32px;\n",
              "  }\n",
              "\n",
              "  .colab-df-quickchart:hover {\n",
              "    background-color: var(--hover-bg-color);\n",
              "    box-shadow: 0 1px 2px rgba(60, 64, 67, 0.3), 0 1px 3px 1px rgba(60, 64, 67, 0.15);\n",
              "    fill: var(--button-hover-fill-color);\n",
              "  }\n",
              "\n",
              "  .colab-df-quickchart-complete:disabled,\n",
              "  .colab-df-quickchart-complete:disabled:hover {\n",
              "    background-color: var(--disabled-bg-color);\n",
              "    fill: var(--disabled-fill-color);\n",
              "    box-shadow: none;\n",
              "  }\n",
              "\n",
              "  .colab-df-spinner {\n",
              "    border: 2px solid var(--fill-color);\n",
              "    border-color: transparent;\n",
              "    border-bottom-color: var(--fill-color);\n",
              "    animation:\n",
              "      spin 1s steps(1) infinite;\n",
              "  }\n",
              "\n",
              "  @keyframes spin {\n",
              "    0% {\n",
              "      border-color: transparent;\n",
              "      border-bottom-color: var(--fill-color);\n",
              "      border-left-color: var(--fill-color);\n",
              "    }\n",
              "    20% {\n",
              "      border-color: transparent;\n",
              "      border-left-color: var(--fill-color);\n",
              "      border-top-color: var(--fill-color);\n",
              "    }\n",
              "    30% {\n",
              "      border-color: transparent;\n",
              "      border-left-color: var(--fill-color);\n",
              "      border-top-color: var(--fill-color);\n",
              "      border-right-color: var(--fill-color);\n",
              "    }\n",
              "    40% {\n",
              "      border-color: transparent;\n",
              "      border-right-color: var(--fill-color);\n",
              "      border-top-color: var(--fill-color);\n",
              "    }\n",
              "    60% {\n",
              "      border-color: transparent;\n",
              "      border-right-color: var(--fill-color);\n",
              "    }\n",
              "    80% {\n",
              "      border-color: transparent;\n",
              "      border-right-color: var(--fill-color);\n",
              "      border-bottom-color: var(--fill-color);\n",
              "    }\n",
              "    90% {\n",
              "      border-color: transparent;\n",
              "      border-bottom-color: var(--fill-color);\n",
              "    }\n",
              "  }\n",
              "</style>\n",
              "\n",
              "  <script>\n",
              "    async function quickchart(key) {\n",
              "      const quickchartButtonEl =\n",
              "        document.querySelector('#' + key + ' button');\n",
              "      quickchartButtonEl.disabled = true;  // To prevent multiple clicks.\n",
              "      quickchartButtonEl.classList.add('colab-df-spinner');\n",
              "      try {\n",
              "        const charts = await google.colab.kernel.invokeFunction(\n",
              "            'suggestCharts', [key], {});\n",
              "      } catch (error) {\n",
              "        console.error('Error during call to suggestCharts:', error);\n",
              "      }\n",
              "      quickchartButtonEl.classList.remove('colab-df-spinner');\n",
              "      quickchartButtonEl.classList.add('colab-df-quickchart-complete');\n",
              "    }\n",
              "    (() => {\n",
              "      let quickchartButtonEl =\n",
              "        document.querySelector('#df-b0a87126-b45c-4ee7-ab3e-a376ea533484 button');\n",
              "      quickchartButtonEl.style.display =\n",
              "        google.colab.kernel.accessAllowed ? 'block' : 'none';\n",
              "    })();\n",
              "  </script>\n",
              "</div>\n",
              "    </div>\n",
              "  </div>\n"
            ]
          },
          "metadata": {},
          "execution_count": 3
        }
      ]
    },
    {
      "cell_type": "code",
      "source": [
        "train = df_news[['abstractive']].loc[:100]\n",
        "train.head()"
      ],
      "metadata": {
        "id": "KHY5oPDDUyeX",
        "colab": {
          "base_uri": "https://localhost:8080/",
          "height": 206
        },
        "outputId": "be7292f1-0e7f-40b9-892d-5e1aeb386992"
      },
      "execution_count": 4,
      "outputs": [
        {
          "output_type": "execute_result",
          "data": {
            "text/plain": [
              "                                         abstractive\n",
              "0  통계청이 발표한 '2018년 사망원인통계'를 보면 지난해 총 사망자 수는 관련 통계...\n",
              "1  서산시 가충순 의원과 이수의 의원이 활발한 의정활동을 펼친 감사의 표시로 한국지역신...\n",
              "2   ‘조선대의 새로운 비상을 꿈꾸다’를 슬로건으로 진행되어 단체생활을 통해 협동심과 ...\n",
              "3  서울시가 다음달 4일부터 서울 시내 319개 고등학교 3학년 8만4700명을 대상으...\n",
              "4  미국인 선교사가 우간다에서 의사 행세를 하며 두 아이의 죽음과 관련돼 있다며 지역 ..."
            ],
            "text/html": [
              "\n",
              "  <div id=\"df-9269898f-f45e-46b8-b81c-8b4a98922ca1\" class=\"colab-df-container\">\n",
              "    <div>\n",
              "<style scoped>\n",
              "    .dataframe tbody tr th:only-of-type {\n",
              "        vertical-align: middle;\n",
              "    }\n",
              "\n",
              "    .dataframe tbody tr th {\n",
              "        vertical-align: top;\n",
              "    }\n",
              "\n",
              "    .dataframe thead th {\n",
              "        text-align: right;\n",
              "    }\n",
              "</style>\n",
              "<table border=\"1\" class=\"dataframe\">\n",
              "  <thead>\n",
              "    <tr style=\"text-align: right;\">\n",
              "      <th></th>\n",
              "      <th>abstractive</th>\n",
              "    </tr>\n",
              "  </thead>\n",
              "  <tbody>\n",
              "    <tr>\n",
              "      <th>0</th>\n",
              "      <td>통계청이 발표한 '2018년 사망원인통계'를 보면 지난해 총 사망자 수는 관련 통계...</td>\n",
              "    </tr>\n",
              "    <tr>\n",
              "      <th>1</th>\n",
              "      <td>서산시 가충순 의원과 이수의 의원이 활발한 의정활동을 펼친 감사의 표시로 한국지역신...</td>\n",
              "    </tr>\n",
              "    <tr>\n",
              "      <th>2</th>\n",
              "      <td>‘조선대의 새로운 비상을 꿈꾸다’를 슬로건으로 진행되어 단체생활을 통해 협동심과 ...</td>\n",
              "    </tr>\n",
              "    <tr>\n",
              "      <th>3</th>\n",
              "      <td>서울시가 다음달 4일부터 서울 시내 319개 고등학교 3학년 8만4700명을 대상으...</td>\n",
              "    </tr>\n",
              "    <tr>\n",
              "      <th>4</th>\n",
              "      <td>미국인 선교사가 우간다에서 의사 행세를 하며 두 아이의 죽음과 관련돼 있다며 지역 ...</td>\n",
              "    </tr>\n",
              "  </tbody>\n",
              "</table>\n",
              "</div>\n",
              "    <div class=\"colab-df-buttons\">\n",
              "\n",
              "  <div class=\"colab-df-container\">\n",
              "    <button class=\"colab-df-convert\" onclick=\"convertToInteractive('df-9269898f-f45e-46b8-b81c-8b4a98922ca1')\"\n",
              "            title=\"Convert this dataframe to an interactive table.\"\n",
              "            style=\"display:none;\">\n",
              "\n",
              "  <svg xmlns=\"http://www.w3.org/2000/svg\" height=\"24px\" viewBox=\"0 -960 960 960\">\n",
              "    <path d=\"M120-120v-720h720v720H120Zm60-500h600v-160H180v160Zm220 220h160v-160H400v160Zm0 220h160v-160H400v160ZM180-400h160v-160H180v160Zm440 0h160v-160H620v160ZM180-180h160v-160H180v160Zm440 0h160v-160H620v160Z\"/>\n",
              "  </svg>\n",
              "    </button>\n",
              "\n",
              "  <style>\n",
              "    .colab-df-container {\n",
              "      display:flex;\n",
              "      gap: 12px;\n",
              "    }\n",
              "\n",
              "    .colab-df-convert {\n",
              "      background-color: #E8F0FE;\n",
              "      border: none;\n",
              "      border-radius: 50%;\n",
              "      cursor: pointer;\n",
              "      display: none;\n",
              "      fill: #1967D2;\n",
              "      height: 32px;\n",
              "      padding: 0 0 0 0;\n",
              "      width: 32px;\n",
              "    }\n",
              "\n",
              "    .colab-df-convert:hover {\n",
              "      background-color: #E2EBFA;\n",
              "      box-shadow: 0px 1px 2px rgba(60, 64, 67, 0.3), 0px 1px 3px 1px rgba(60, 64, 67, 0.15);\n",
              "      fill: #174EA6;\n",
              "    }\n",
              "\n",
              "    .colab-df-buttons div {\n",
              "      margin-bottom: 4px;\n",
              "    }\n",
              "\n",
              "    [theme=dark] .colab-df-convert {\n",
              "      background-color: #3B4455;\n",
              "      fill: #D2E3FC;\n",
              "    }\n",
              "\n",
              "    [theme=dark] .colab-df-convert:hover {\n",
              "      background-color: #434B5C;\n",
              "      box-shadow: 0px 1px 3px 1px rgba(0, 0, 0, 0.15);\n",
              "      filter: drop-shadow(0px 1px 2px rgba(0, 0, 0, 0.3));\n",
              "      fill: #FFFFFF;\n",
              "    }\n",
              "  </style>\n",
              "\n",
              "    <script>\n",
              "      const buttonEl =\n",
              "        document.querySelector('#df-9269898f-f45e-46b8-b81c-8b4a98922ca1 button.colab-df-convert');\n",
              "      buttonEl.style.display =\n",
              "        google.colab.kernel.accessAllowed ? 'block' : 'none';\n",
              "\n",
              "      async function convertToInteractive(key) {\n",
              "        const element = document.querySelector('#df-9269898f-f45e-46b8-b81c-8b4a98922ca1');\n",
              "        const dataTable =\n",
              "          await google.colab.kernel.invokeFunction('convertToInteractive',\n",
              "                                                    [key], {});\n",
              "        if (!dataTable) return;\n",
              "\n",
              "        const docLinkHtml = 'Like what you see? Visit the ' +\n",
              "          '<a target=\"_blank\" href=https://colab.research.google.com/notebooks/data_table.ipynb>data table notebook</a>'\n",
              "          + ' to learn more about interactive tables.';\n",
              "        element.innerHTML = '';\n",
              "        dataTable['output_type'] = 'display_data';\n",
              "        await google.colab.output.renderOutput(dataTable, element);\n",
              "        const docLink = document.createElement('div');\n",
              "        docLink.innerHTML = docLinkHtml;\n",
              "        element.appendChild(docLink);\n",
              "      }\n",
              "    </script>\n",
              "  </div>\n",
              "\n",
              "\n",
              "<div id=\"df-582270ad-35b9-4204-930a-5aec82208724\">\n",
              "  <button class=\"colab-df-quickchart\" onclick=\"quickchart('df-582270ad-35b9-4204-930a-5aec82208724')\"\n",
              "            title=\"Suggest charts.\"\n",
              "            style=\"display:none;\">\n",
              "\n",
              "<svg xmlns=\"http://www.w3.org/2000/svg\" height=\"24px\"viewBox=\"0 0 24 24\"\n",
              "     width=\"24px\">\n",
              "    <g>\n",
              "        <path d=\"M19 3H5c-1.1 0-2 .9-2 2v14c0 1.1.9 2 2 2h14c1.1 0 2-.9 2-2V5c0-1.1-.9-2-2-2zM9 17H7v-7h2v7zm4 0h-2V7h2v10zm4 0h-2v-4h2v4z\"/>\n",
              "    </g>\n",
              "</svg>\n",
              "  </button>\n",
              "\n",
              "<style>\n",
              "  .colab-df-quickchart {\n",
              "      --bg-color: #E8F0FE;\n",
              "      --fill-color: #1967D2;\n",
              "      --hover-bg-color: #E2EBFA;\n",
              "      --hover-fill-color: #174EA6;\n",
              "      --disabled-fill-color: #AAA;\n",
              "      --disabled-bg-color: #DDD;\n",
              "  }\n",
              "\n",
              "  [theme=dark] .colab-df-quickchart {\n",
              "      --bg-color: #3B4455;\n",
              "      --fill-color: #D2E3FC;\n",
              "      --hover-bg-color: #434B5C;\n",
              "      --hover-fill-color: #FFFFFF;\n",
              "      --disabled-bg-color: #3B4455;\n",
              "      --disabled-fill-color: #666;\n",
              "  }\n",
              "\n",
              "  .colab-df-quickchart {\n",
              "    background-color: var(--bg-color);\n",
              "    border: none;\n",
              "    border-radius: 50%;\n",
              "    cursor: pointer;\n",
              "    display: none;\n",
              "    fill: var(--fill-color);\n",
              "    height: 32px;\n",
              "    padding: 0;\n",
              "    width: 32px;\n",
              "  }\n",
              "\n",
              "  .colab-df-quickchart:hover {\n",
              "    background-color: var(--hover-bg-color);\n",
              "    box-shadow: 0 1px 2px rgba(60, 64, 67, 0.3), 0 1px 3px 1px rgba(60, 64, 67, 0.15);\n",
              "    fill: var(--button-hover-fill-color);\n",
              "  }\n",
              "\n",
              "  .colab-df-quickchart-complete:disabled,\n",
              "  .colab-df-quickchart-complete:disabled:hover {\n",
              "    background-color: var(--disabled-bg-color);\n",
              "    fill: var(--disabled-fill-color);\n",
              "    box-shadow: none;\n",
              "  }\n",
              "\n",
              "  .colab-df-spinner {\n",
              "    border: 2px solid var(--fill-color);\n",
              "    border-color: transparent;\n",
              "    border-bottom-color: var(--fill-color);\n",
              "    animation:\n",
              "      spin 1s steps(1) infinite;\n",
              "  }\n",
              "\n",
              "  @keyframes spin {\n",
              "    0% {\n",
              "      border-color: transparent;\n",
              "      border-bottom-color: var(--fill-color);\n",
              "      border-left-color: var(--fill-color);\n",
              "    }\n",
              "    20% {\n",
              "      border-color: transparent;\n",
              "      border-left-color: var(--fill-color);\n",
              "      border-top-color: var(--fill-color);\n",
              "    }\n",
              "    30% {\n",
              "      border-color: transparent;\n",
              "      border-left-color: var(--fill-color);\n",
              "      border-top-color: var(--fill-color);\n",
              "      border-right-color: var(--fill-color);\n",
              "    }\n",
              "    40% {\n",
              "      border-color: transparent;\n",
              "      border-right-color: var(--fill-color);\n",
              "      border-top-color: var(--fill-color);\n",
              "    }\n",
              "    60% {\n",
              "      border-color: transparent;\n",
              "      border-right-color: var(--fill-color);\n",
              "    }\n",
              "    80% {\n",
              "      border-color: transparent;\n",
              "      border-right-color: var(--fill-color);\n",
              "      border-bottom-color: var(--fill-color);\n",
              "    }\n",
              "    90% {\n",
              "      border-color: transparent;\n",
              "      border-bottom-color: var(--fill-color);\n",
              "    }\n",
              "  }\n",
              "</style>\n",
              "\n",
              "  <script>\n",
              "    async function quickchart(key) {\n",
              "      const quickchartButtonEl =\n",
              "        document.querySelector('#' + key + ' button');\n",
              "      quickchartButtonEl.disabled = true;  // To prevent multiple clicks.\n",
              "      quickchartButtonEl.classList.add('colab-df-spinner');\n",
              "      try {\n",
              "        const charts = await google.colab.kernel.invokeFunction(\n",
              "            'suggestCharts', [key], {});\n",
              "      } catch (error) {\n",
              "        console.error('Error during call to suggestCharts:', error);\n",
              "      }\n",
              "      quickchartButtonEl.classList.remove('colab-df-spinner');\n",
              "      quickchartButtonEl.classList.add('colab-df-quickchart-complete');\n",
              "    }\n",
              "    (() => {\n",
              "      let quickchartButtonEl =\n",
              "        document.querySelector('#df-582270ad-35b9-4204-930a-5aec82208724 button');\n",
              "      quickchartButtonEl.style.display =\n",
              "        google.colab.kernel.accessAllowed ? 'block' : 'none';\n",
              "    })();\n",
              "  </script>\n",
              "</div>\n",
              "    </div>\n",
              "  </div>\n"
            ]
          },
          "metadata": {},
          "execution_count": 4
        }
      ]
    },
    {
      "cell_type": "code",
      "source": [
        "sample = train.values[0, 0]\n",
        "sample"
      ],
      "metadata": {
        "colab": {
          "base_uri": "https://localhost:8080/",
          "height": 54
        },
        "id": "khrY6dJTxIBx",
        "outputId": "645b64ec-7f19-4515-80f6-b1478fc9deae"
      },
      "execution_count": 7,
      "outputs": [
        {
          "output_type": "execute_result",
          "data": {
            "text/plain": [
              "\"통계청이 발표한 '2018년 사망원인통계'를 보면 지난해 총 사망자 수는 관련 통계를 작성한 이래 가장 많았으며 사망 원인 중 폐렴과 알츠하이머 병의 순위 상승이 두드러졌고 자살에 의한 사망자도 증가했다. \""
            ],
            "application/vnd.google.colaboratory.intrinsic+json": {
              "type": "string"
            }
          },
          "metadata": {},
          "execution_count": 7
        }
      ]
    },
    {
      "cell_type": "markdown",
      "source": [
        "### Random Deletion"
      ],
      "metadata": {
        "id": "vWIfL2XquqeZ"
      }
    },
    {
      "cell_type": "markdown",
      "source": [
        "< 사용할 함수 >   \n",
        "- random.uniform(0, 1)\n",
        "- random.randint(0, n)"
      ],
      "metadata": {
        "id": "jvCfWpW5ysju"
      }
    },
    {
      "cell_type": "code",
      "source": [
        "# 정한 확률만큼 deletion = 문장을 공백으로 분할하여 단어 목록을 만듭니다.\n",
        "\n",
        "def random_deletion(sent, p):\n",
        "\t# 문장을 공백으로 분할하여 단어 목록을 만듭니다.\n",
        "    words = sent.split()\n",
        "\n",
        "    # 단어 목록에서 각 단어를 제거할지 여부를 결정합니다.\n",
        "    filtered_words = [word for word in words if random.uniform(0, 1) > p]\n",
        "\n",
        "    # 제거된 단어를 다시 하나의 문장으로 결합합니다.\n",
        "    result_sent = ' '.join(filtered_words)\n",
        "\n",
        "    return result_sent"
      ],
      "metadata": {
        "id": "IkNfVE8EvIw_"
      },
      "execution_count": 29,
      "outputs": []
    },
    {
      "cell_type": "markdown",
      "source": [
        "### Random Swap"
      ],
      "metadata": {
        "id": "4g_crkZwvIoM"
      }
    },
    {
      "cell_type": "code",
      "source": [
        "# 정한 갯수만큼 swap =  정해진 갯수 n만큼 단어를 무작위로 교환하는 random_swap 함수\n",
        "def random_swap(sent, n):\n",
        "    # 문장을 공백으로 분할하여 단어 목록을 만듭니다.\n",
        "    words = sent.split()\n",
        "\n",
        "    # 교환할 단어 쌍을 무작위로 선택하여 교환합니다.\n",
        "    for _ in range(n):\n",
        "        idx1, idx2 = random.sample(range(len(words)), 2)\n",
        "        words[idx1], words[idx2] = words[idx2], words[idx1]\n",
        "\n",
        "    # 교환된 단어를 다시 하나의 문장으로 결합합니다.\n",
        "    result_sent = ' '.join(words)\n",
        "\n",
        "    return result_sent"
      ],
      "metadata": {
        "id": "Fl5L5J4_vIhF"
      },
      "execution_count": 30,
      "outputs": []
    },
    {
      "cell_type": "markdown",
      "source": [
        "## Back Translation"
      ],
      "metadata": {
        "id": "2umG7Rsl0i3Z"
      }
    },
    {
      "cell_type": "code",
      "source": [
        "!pip install --upgrade translators"
      ],
      "metadata": {
        "id": "GvVUDr9CUwsO",
        "outputId": "38e31799-cbde-4cfa-bdbe-774843d54175",
        "colab": {
          "base_uri": "https://localhost:8080/"
        }
      },
      "execution_count": 5,
      "outputs": [
        {
          "output_type": "stream",
          "name": "stdout",
          "text": [
            "Collecting translators\n",
            "  Downloading translators-5.8.3-py3-none-any.whl (54 kB)\n",
            "\u001b[?25l     \u001b[90m━━━━━━━━━━━━━━━━━━━━━━━━━━━━━━━━━━━━━━━━\u001b[0m \u001b[32m0.0/54.5 kB\u001b[0m \u001b[31m?\u001b[0m eta \u001b[36m-:--:--\u001b[0m\r\u001b[2K     \u001b[90m━━━━━━━━━━━━━━━━━━━━━━━━━━━━━━━━━━━━━━━━\u001b[0m \u001b[32m54.5/54.5 kB\u001b[0m \u001b[31m1.4 MB/s\u001b[0m eta \u001b[36m0:00:00\u001b[0m\n",
            "\u001b[?25hRequirement already satisfied: requests>=2.29.0 in /usr/local/lib/python3.10/dist-packages (from translators) (2.31.0)\n",
            "Collecting PyExecJS>=1.5.1 (from translators)\n",
            "  Downloading PyExecJS-1.5.1.tar.gz (13 kB)\n",
            "  Preparing metadata (setup.py) ... \u001b[?25l\u001b[?25hdone\n",
            "Requirement already satisfied: lxml>=4.9.1 in /usr/local/lib/python3.10/dist-packages (from translators) (4.9.3)\n",
            "Requirement already satisfied: tqdm>=4.65.0 in /usr/local/lib/python3.10/dist-packages (from translators) (4.66.1)\n",
            "Collecting pathos>=0.2.9 (from translators)\n",
            "  Downloading pathos-0.3.1-py3-none-any.whl (82 kB)\n",
            "\u001b[2K     \u001b[90m━━━━━━━━━━━━━━━━━━━━━━━━━━━━━━━━━━━━━━━━\u001b[0m \u001b[32m82.1/82.1 kB\u001b[0m \u001b[31m4.1 MB/s\u001b[0m eta \u001b[36m0:00:00\u001b[0m\n",
            "\u001b[?25hRequirement already satisfied: cryptography>=38.0.1 in /usr/local/lib/python3.10/dist-packages (from translators) (41.0.3)\n",
            "Requirement already satisfied: cffi>=1.12 in /usr/local/lib/python3.10/dist-packages (from cryptography>=38.0.1->translators) (1.15.1)\n",
            "Collecting ppft>=1.7.6.7 (from pathos>=0.2.9->translators)\n",
            "  Downloading ppft-1.7.6.7-py3-none-any.whl (56 kB)\n",
            "\u001b[2K     \u001b[90m━━━━━━━━━━━━━━━━━━━━━━━━━━━━━━━━━━━━━━━━\u001b[0m \u001b[32m56.8/56.8 kB\u001b[0m \u001b[31m6.4 MB/s\u001b[0m eta \u001b[36m0:00:00\u001b[0m\n",
            "\u001b[?25hCollecting dill>=0.3.7 (from pathos>=0.2.9->translators)\n",
            "  Downloading dill-0.3.7-py3-none-any.whl (115 kB)\n",
            "\u001b[2K     \u001b[90m━━━━━━━━━━━━━━━━━━━━━━━━━━━━━━━━━━━━━━\u001b[0m \u001b[32m115.3/115.3 kB\u001b[0m \u001b[31m13.4 MB/s\u001b[0m eta \u001b[36m0:00:00\u001b[0m\n",
            "\u001b[?25hCollecting pox>=0.3.3 (from pathos>=0.2.9->translators)\n",
            "  Downloading pox-0.3.3-py3-none-any.whl (29 kB)\n",
            "Collecting multiprocess>=0.70.15 (from pathos>=0.2.9->translators)\n",
            "  Downloading multiprocess-0.70.15-py310-none-any.whl (134 kB)\n",
            "\u001b[2K     \u001b[90m━━━━━━━━━━━━━━━━━━━━━━━━━━━━━━━━━━━━━━\u001b[0m \u001b[32m134.8/134.8 kB\u001b[0m \u001b[31m13.1 MB/s\u001b[0m eta \u001b[36m0:00:00\u001b[0m\n",
            "\u001b[?25hRequirement already satisfied: six>=1.10.0 in /usr/local/lib/python3.10/dist-packages (from PyExecJS>=1.5.1->translators) (1.16.0)\n",
            "Requirement already satisfied: charset-normalizer<4,>=2 in /usr/local/lib/python3.10/dist-packages (from requests>=2.29.0->translators) (3.2.0)\n",
            "Requirement already satisfied: idna<4,>=2.5 in /usr/local/lib/python3.10/dist-packages (from requests>=2.29.0->translators) (3.4)\n",
            "Requirement already satisfied: urllib3<3,>=1.21.1 in /usr/local/lib/python3.10/dist-packages (from requests>=2.29.0->translators) (2.0.4)\n",
            "Requirement already satisfied: certifi>=2017.4.17 in /usr/local/lib/python3.10/dist-packages (from requests>=2.29.0->translators) (2023.7.22)\n",
            "Requirement already satisfied: pycparser in /usr/local/lib/python3.10/dist-packages (from cffi>=1.12->cryptography>=38.0.1->translators) (2.21)\n",
            "Building wheels for collected packages: PyExecJS\n",
            "  Building wheel for PyExecJS (setup.py) ... \u001b[?25l\u001b[?25hdone\n",
            "  Created wheel for PyExecJS: filename=PyExecJS-1.5.1-py3-none-any.whl size=14578 sha256=25a35773063682e14650e0310ec4ab494a565e9eab2d6f821b834d7f7a51e4c3\n",
            "  Stored in directory: /root/.cache/pip/wheels/9d/91/30/28e6da53d4f44dc445349b2ffad581968447e4cbc9dd7991b8\n",
            "Successfully built PyExecJS\n",
            "Installing collected packages: PyExecJS, ppft, pox, dill, multiprocess, pathos, translators\n",
            "Successfully installed PyExecJS-1.5.1 dill-0.3.7 multiprocess-0.70.15 pathos-0.3.1 pox-0.3.3 ppft-1.7.6.7 translators-5.8.3\n"
          ]
        }
      ]
    },
    {
      "cell_type": "code",
      "source": [
        "import translators as ts"
      ],
      "metadata": {
        "id": "BoHCzCUB_8CL",
        "colab": {
          "base_uri": "https://localhost:8080/"
        },
        "outputId": "a62a95f1-b2e8-45a1-de9b-4a379ca17f59"
      },
      "execution_count": 6,
      "outputs": [
        {
          "output_type": "stream",
          "name": "stderr",
          "text": [
            "Using region Taipei City server backend.\n",
            "\n"
          ]
        }
      ]
    },
    {
      "cell_type": "code",
      "source": [
        "print(ts.translators_pool)"
      ],
      "metadata": {
        "colab": {
          "base_uri": "https://localhost:8080/"
        },
        "id": "roDSP8KZAEO_",
        "outputId": "1b81e62e-4207-4416-d661-98e01bfca346"
      },
      "execution_count": null,
      "outputs": [
        {
          "output_type": "stream",
          "name": "stdout",
          "text": [
            "['alibaba', 'apertium', 'argos', 'baidu', 'bing', 'caiyun', 'cloudTranslation', 'deepl', 'elia', 'google', 'iciba', 'iflytek', 'iflyrec', 'itranslate', 'judic', 'languageWire', 'lingvanex', 'niutrans', 'mglip', 'mirai', 'modernMt', 'myMemory', 'papago', 'qqFanyi', 'qqTranSmart', 'reverso', 'sogou', 'sysTran', 'tilde', 'translateCom', 'translateMe', 'utibet', 'volcEngine', 'yandex', 'yeekit', 'youdao']\n"
          ]
        }
      ]
    },
    {
      "cell_type": "code",
      "source": [
        "sample"
      ],
      "metadata": {
        "colab": {
          "base_uri": "https://localhost:8080/",
          "height": 54
        },
        "id": "PHzgdVLqAJAU",
        "outputId": "5710c2b4-e4e3-42d0-9e20-40c830b6615a"
      },
      "execution_count": 9,
      "outputs": [
        {
          "output_type": "execute_result",
          "data": {
            "text/plain": [
              "\"통계청이 발표한 '2018년 사망원인통계'를 보면 지난해 총 사망자 수는 관련 통계를 작성한 이래 가장 많았으며 사망 원인 중 폐렴과 알츠하이머 병의 순위 상승이 두드러졌고 자살에 의한 사망자도 증가했다. \""
            ],
            "application/vnd.google.colaboratory.intrinsic+json": {
              "type": "string"
            }
          },
          "metadata": {},
          "execution_count": 9
        }
      ]
    },
    {
      "cell_type": "code",
      "source": [
        "sample_eng = ts.translate_text(sample)\n",
        "sample_eng"
      ],
      "metadata": {
        "colab": {
          "base_uri": "https://localhost:8080/",
          "height": 54
        },
        "id": "xvZj7mbXUhi-",
        "outputId": "1c36d838-569f-4735-dcbe-ca5fd87f73bf"
      },
      "execution_count": 10,
      "outputs": [
        {
          "output_type": "execute_result",
          "data": {
            "text/plain": [
              "'According to the \"2018 Cause of Death Statistics\" released by the National Statistics Office, the total number of deaths last year was the highest since the relevant statistics were compiled, and among the causes of death, pneumonia and Alzheimer\\'s disease rose in the rankings, and the number of deaths by suicide also increased.'"
            ],
            "application/vnd.google.colaboratory.intrinsic+json": {
              "type": "string"
            }
          },
          "metadata": {},
          "execution_count": 10
        }
      ]
    },
    {
      "cell_type": "markdown",
      "source": [
        "텍스트 의미 유지하면서 토큰을 바꾸는 방식으로 트랜스레이트를 사용한다."
      ],
      "metadata": {
        "id": "JffOF5LFP3e0"
      }
    },
    {
      "cell_type": "code",
      "source": [
        "sample_aug = ts.translate_text(sample_eng, to_language='ko')\n",
        "sample_aug"
      ],
      "metadata": {
        "colab": {
          "base_uri": "https://localhost:8080/",
          "height": 35
        },
        "id": "lfkV6bY5WEzV",
        "outputId": "efa4a37c-8b7a-476b-da29-22633d6f5d7a"
      },
      "execution_count": 11,
      "outputs": [
        {
          "output_type": "execute_result",
          "data": {
            "text/plain": [
              "\"통계청이 발표한 '2018년 사망원인 통계'에 따르면 지난해 총 사망자 수는 관련 통계 집계 이후 가장 많았고, 사망 원인 중 폐렴과 알츠하이머병이 순위에 올랐고 자살로 인한 사망자도 증가했다.\""
            ],
            "application/vnd.google.colaboratory.intrinsic+json": {
              "type": "string"
            }
          },
          "metadata": {},
          "execution_count": 11
        }
      ]
    },
    {
      "cell_type": "code",
      "source": [
        "sample1 = ts.translate_text(sample_aug, translator = 'bing', to_language='en')\n",
        "sample1"
      ],
      "metadata": {
        "colab": {
          "base_uri": "https://localhost:8080/",
          "height": 54
        },
        "id": "RNWHdDWAlcGu",
        "outputId": "3b35678e-0fb2-41a2-c217-0afbafac5f08"
      },
      "execution_count": 12,
      "outputs": [
        {
          "output_type": "execute_result",
          "data": {
            "text/plain": [
              "'According to the \"2018 Cause of Death Statistics\" released by the National Statistics Office, the total number of deaths last year was the highest since the relevant statistics were compiled, and among the causes of death, pneumonia and Alzheimer\\'s disease ranked first, and deaths due to suicide also increased.'"
            ],
            "application/vnd.google.colaboratory.intrinsic+json": {
              "type": "string"
            }
          },
          "metadata": {},
          "execution_count": 12
        }
      ]
    },
    {
      "cell_type": "code",
      "source": [
        "sample2 = ts.translate_text(sample1, translator = 'bing', to_language='ko')\n",
        "sample2"
      ],
      "metadata": {
        "colab": {
          "base_uri": "https://localhost:8080/",
          "height": 35
        },
        "id": "mYXiSk3Jl5B1",
        "outputId": "5a951e08-95a3-48c6-d023-4c9bcb0cabaf"
      },
      "execution_count": 20,
      "outputs": [
        {
          "output_type": "execute_result",
          "data": {
            "text/plain": [
              "\"통계청이 발표한 '2018년 사망 원인 통계'에 따르면 지난해 총 사망자 수는 관련 통계가 집계된 이후 가장 많았고, 사망 원인 중 폐렴과 알츠하이머병이 1위를 차지했으며 자살로 인한 사망도 증가했다.\""
            ],
            "application/vnd.google.colaboratory.intrinsic+json": {
              "type": "string"
            }
          },
          "metadata": {},
          "execution_count": 20
        }
      ]
    },
    {
      "cell_type": "code",
      "source": [
        "sample3 = ts.translate_text(sample2, translator = 'modernMt', to_language='en')\n",
        "sample3"
      ],
      "metadata": {
        "colab": {
          "base_uri": "https://localhost:8080/",
          "height": 54
        },
        "id": "pIARcETimF-A",
        "outputId": "c4fa84cb-5337-4e82-9882-3bed30e63de5"
      },
      "execution_count": 18,
      "outputs": [
        {
          "output_type": "execute_result",
          "data": {
            "text/plain": [
              "'According to the \"2018 Cause of Death Statistics\" released by Statistics Korea, the total number of deaths last year was the highest since related statistics were compiled, pneumonia and Alzheimer\\'s disease ranked first among the causes of death, and deaths due to suicide also increased.'"
            ],
            "application/vnd.google.colaboratory.intrinsic+json": {
              "type": "string"
            }
          },
          "metadata": {},
          "execution_count": 18
        }
      ]
    },
    {
      "cell_type": "code",
      "source": [
        "sample4 = ts.translate_text(sample2, translator = 'papago', to_language='ko')\n",
        "print(sample4)\n",
        "print(sample_aug)\n",
        "print(sample2)\n",
        "print(sample)"
      ],
      "metadata": {
        "colab": {
          "base_uri": "https://localhost:8080/"
        },
        "id": "_m2dKEy5m6qj",
        "outputId": "d706a4ef-cf83-424d-947b-320625887461"
      },
      "execution_count": 22,
      "outputs": [
        {
          "output_type": "stream",
          "name": "stdout",
          "text": [
            "통계청이 발표한 '2018년 사망 원인 통계'에 따르면 지난해 총 사망자 수는 관련 통계가 집계된 이후 가장 많았고, 사망 원인 중 폐렴과 알츠하이머병이 1위를 차지했으며 자살로 인한 사망도 증가했다.\n",
            "통계청이 발표한 '2018년 사망원인 통계'에 따르면 지난해 총 사망자 수는 관련 통계 집계 이후 가장 많았고, 사망 원인 중 폐렴과 알츠하이머병이 순위에 올랐고 자살로 인한 사망자도 증가했다.\n",
            "통계청이 발표한 '2018년 사망 원인 통계'에 따르면 지난해 총 사망자 수는 관련 통계가 집계된 이후 가장 많았고, 사망 원인 중 폐렴과 알츠하이머병이 1위를 차지했으며 자살로 인한 사망도 증가했다.\n",
            "통계청이 발표한 '2018년 사망원인통계'를 보면 지난해 총 사망자 수는 관련 통계를 작성한 이래 가장 많았으며 사망 원인 중 폐렴과 알츠하이머 병의 순위 상승이 두드러졌고 자살에 의한 사망자도 증가했다. \n"
          ]
        }
      ]
    },
    {
      "cell_type": "markdown",
      "source": [
        "https://pypi.org/project/translators/#getting-started\n",
        "\n",
        "###implementation\n",
        "1. translator 간의 성능 비교\n",
        "- 좋은 성능 : modernMt > bing > papago\n",
        "- 별로 : cloudTranslation, translateCom,\n",
        "\n",
        "2. 활용 언어 간의 성능 비교\n",
        "\n",
        "\n",
        "3. 위 샘플 텍스트 뭉치를 5배로 증강해 보기"
      ],
      "metadata": {
        "id": "alzqQHpKQTLE"
      }
    },
    {
      "cell_type": "code",
      "source": [
        "translator = ts.translators_pool\n",
        "translator"
      ],
      "metadata": {
        "colab": {
          "base_uri": "https://localhost:8080/"
        },
        "id": "5TWXvmTpoxX1",
        "outputId": "c91fe078-f0dc-401c-d641-c4eaffe6bff7"
      },
      "execution_count": 23,
      "outputs": [
        {
          "output_type": "execute_result",
          "data": {
            "text/plain": [
              "['alibaba',\n",
              " 'apertium',\n",
              " 'argos',\n",
              " 'baidu',\n",
              " 'bing',\n",
              " 'caiyun',\n",
              " 'cloudTranslation',\n",
              " 'deepl',\n",
              " 'elia',\n",
              " 'google',\n",
              " 'iciba',\n",
              " 'iflytek',\n",
              " 'iflyrec',\n",
              " 'itranslate',\n",
              " 'judic',\n",
              " 'languageWire',\n",
              " 'lingvanex',\n",
              " 'niutrans',\n",
              " 'mglip',\n",
              " 'mirai',\n",
              " 'modernMt',\n",
              " 'myMemory',\n",
              " 'papago',\n",
              " 'qqFanyi',\n",
              " 'qqTranSmart',\n",
              " 'reverso',\n",
              " 'sogou',\n",
              " 'sysTran',\n",
              " 'tilde',\n",
              " 'translateCom',\n",
              " 'translateMe',\n",
              " 'utibet',\n",
              " 'volcEngine',\n",
              " 'yandex',\n",
              " 'yeekit',\n",
              " 'youdao']"
            ]
          },
          "metadata": {},
          "execution_count": 23
        }
      ]
    },
    {
      "cell_type": "code",
      "source": [
        "for i in translator:\n",
        "    try:\n",
        "        print(i, ': ' , ts.translate_text(sample1, i, to_language='ko'))\n",
        "\n",
        "    except:\n",
        "        pass"
      ],
      "metadata": {
        "id": "16FhipNcQVMD",
        "colab": {
          "base_uri": "https://localhost:8080/"
        },
        "outputId": "ad826818-b18a-4c97-946c-1c950b5d5df3"
      },
      "execution_count": 28,
      "outputs": [
        {
          "output_type": "stream",
          "name": "stdout",
          "text": [
            "argos :  국가 통계청에 의해 발표 된 \"2018 사망 통계 원인\"에 따르면 작년의 총 사망 수는 관련 통계가 컴파일 된 이래로 가장 높았으며 사망, 폐렴 및 알츠하이머 병의 원인 중 하나가 먼저 순위를 매기고 자살로 인한 사망률이 증가했습니다.\n",
            "bing :  통계청이 발표한 '2018년 사망 원인 통계'에 따르면 지난해 총 사망자 수는 관련 통계가 집계된 이후 가장 많았고, 사망 원인 중 폐렴과 알츠하이머병이 1위를 차지했으며 자살로 인한 사망도 증가했다.\n",
            "caiyun :  According to the \"2018 Cause of Death Statistics\" released by the National Statistics Office, the total number of deaths last year was the highest since the relevant statistics were compiled, and among the causes of death, pneumonia and Alzheimer's disease ranked first, and deaths due to suicide also increased.\n",
            "cloudTranslation :  통계청이 발표한 ' 2018년 사망원인통계 '에 따르면 지난해 전체 사망자 수는 관련 통계가 집계된 이후 가장 많았으며 사망원인 중 폐렴과 알츠하이머병이 1위를 차지했고 자살로 인한 사망자도 증가했다.\n",
            "google :  National Statistics Office에서 발표 한 \"2018 사망 통계의 원인\"에 따르면, 작년 총 사망자 수는 관련 통계가 수집 된 이후로 가장 높았으며, 사망 원인 중에서 폐렴과 알츠하이머 병이 첫 번째로 순위가 매겨졌습니다. 자살로 인해 증가했습니다.\n",
            "iciba :  국가통계국이 발표한 '2018년 사망 원인 통계'에 따르면 지난해 총 사망자 수는 관련 통계 작성 이래 가장 많았다. 사망 원인 중 폐렴과 알츠하이머병이 1위를 차지했고 자살 사망자도 증가했다.\n",
            "itranslate :  National Statistics Office가 발표 한 2018 Cause of Death Statistics에 따르면 작년 사망자 수는 관련 통계가 컴파일 된 이후로 가장 높았으며 사망 원인 중 폐렴과 알츠하이머 병이 1 위를 차지했으며 자살로 인한 사망자도 증가했습니다.\n"
          ]
        },
        {
          "output_type": "stream",
          "name": "stderr",
          "text": [
            "/usr/local/lib/python3.10/dist-packages/translators/server.py:185: UserWarning: Unsupported [from_language=auto(nl instead)] with [judic]! Please specify it.\n",
            "  warnings.warn(f'{warn_tips} Please specify it.')\n",
            "/usr/local/lib/python3.10/dist-packages/translators/server.py:185: UserWarning: Unsupported [from_language=auto(fr instead)] with [languageWire]! Please specify it.\n",
            "  warnings.warn(f'{warn_tips} Please specify it.')\n",
            "/usr/local/lib/python3.10/dist-packages/translators/server.py:185: UserWarning: Unsupported [from_language=auto(zh-Hans_CN instead)] with [lingvanex]! Please specify it.\n",
            "  warnings.warn(f'{warn_tips} Please specify it.')\n",
            "/usr/local/lib/python3.10/dist-packages/translators/server.py:185: UserWarning: Unsupported [from_language=auto(zh instead)] with [mglip]! Please specify it.\n",
            "  warnings.warn(f'{warn_tips} Please specify it.')\n"
          ]
        },
        {
          "output_type": "stream",
          "name": "stdout",
          "text": [
            "modernMt :  통계청이 발표한 '2018년 사망원인통계' 에 따르면 지난해 전체 사망자 수는 관련 통계가 집계된 이후 가장 많았고, 사망원인 중 폐렴과 알츠하이머병이 1위를 차지했으며, 자살로 인한 사망자도 증가했다.\n"
          ]
        },
        {
          "output_type": "stream",
          "name": "stderr",
          "text": [
            "/usr/local/lib/python3.10/dist-packages/translators/server.py:185: UserWarning: Unsupported [from_language=auto(zh-CN instead)] with [myMemory]! Please specify it.\n",
            "  warnings.warn(f'{warn_tips} Please specify it.')\n"
          ]
        },
        {
          "output_type": "stream",
          "name": "stdout",
          "text": [
            "papago :  통계청이 발표한 '2018년 사망원인 통계'에 따르면 지난해 전체 사망자 수는 관련 통계 작성 이래 가장 많았고, 사망원인 중 폐렴과 알츠하이머병이 1위를 차지했고, 자살로 인한 사망도 증가했다.\n"
          ]
        },
        {
          "output_type": "stream",
          "name": "stderr",
          "text": [
            "/usr/local/lib/python3.10/dist-packages/translators/server.py:185: UserWarning: Unsupported [from_language=auto(zh instead)] with [qqTranSmart]! Please specify it.\n",
            "  warnings.warn(f'{warn_tips} Please specify it.')\n"
          ]
        },
        {
          "output_type": "stream",
          "name": "stdout",
          "text": [
            "qqTranSmart :  2018년에는 죽음의\n"
          ]
        },
        {
          "output_type": "stream",
          "name": "stderr",
          "text": [
            "/usr/local/lib/python3.10/dist-packages/translators/server.py:185: UserWarning: Unsupported [from_language=auto(zh instead)] with [reverso]! Please specify it.\n",
            "  warnings.warn(f'{warn_tips} Please specify it.')\n"
          ]
        },
        {
          "output_type": "stream",
          "name": "stdout",
          "text": [
            "reverso :  통계청이 발표한 '2018년 사망원인 통계'에 따르면 지난해 사망자는 관련 통계가 집계된 이후 가장 많았고 사망원인 중 폐렴 알츠하이머병 등이 1위를 차지했으며 자살로 인한 사망도 증가했다.\n",
            "sogou :  국가통계청이 발표한' 2018 년 사망 원인 통계' 에 따르면 지난해 사망자 총수는 관련 통계 편찬 이후 최고치를 기록했고, 사망 원인 가운데 폐렴과 알츠하이머병이 1 위를 차지했고 자살로 인한 사망자 수도 증가했다.\n"
          ]
        },
        {
          "output_type": "stream",
          "name": "stderr",
          "text": [
            "/usr/local/lib/python3.10/dist-packages/translators/server.py:185: UserWarning: Unsupported [from_language=auto(zh instead)] with [sysTran]! Please specify it.\n",
            "  warnings.warn(f'{warn_tips} Please specify it.')\n"
          ]
        },
        {
          "output_type": "stream",
          "name": "stdout",
          "text": [
            "sysTran :  According to the \"2018 Cause of Death Statistics\" released by the National Statistics Office, the total number of deaths last year was the highest since the relevant statistics were compiled, and among the causes of death, pneumonia and Alzheimer's disease ranked first, and deaths due to suicide also increased.\n",
            "translateCom :  통계청이 발표한 '2018년 사망원인 통계'에 따르면 지난해 총 사망자 수는 관련 통계가 집계된 이래 가장 많았고,\n"
          ]
        },
        {
          "output_type": "stream",
          "name": "stderr",
          "text": [
            "/usr/local/lib/python3.10/dist-packages/translators/server.py:185: UserWarning: Unsupported [from_language=auto(zh instead)] with [utibet]! Please specify it.\n",
            "  warnings.warn(f'{warn_tips} Please specify it.')\n",
            "/usr/local/lib/python3.10/dist-packages/translators/server.py:185: UserWarning: Unsupported [from_language=auto(zh instead)] with [yeekit]! Please specify it.\n",
            "  warnings.warn(f'{warn_tips} Please specify it.')\n"
          ]
        },
        {
          "output_type": "stream",
          "name": "stdout",
          "text": [
            "youdao :  据统计厅发布的《2018年死因统计》显示，去年的死亡人数是有相关统计以来的最高水平，在死亡原因中，肺炎和阿尔茨海默病排名第一，自杀死亡人数也有所增加。\n"
          ]
        }
      ]
    }
  ]
}